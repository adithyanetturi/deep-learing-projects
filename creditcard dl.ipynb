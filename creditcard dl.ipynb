{
  "nbformat": 4,
  "nbformat_minor": 0,
  "metadata": {
    "colab": {
      "provenance": []
    },
    "kernelspec": {
      "name": "python3",
      "display_name": "Python 3"
    },
    "language_info": {
      "name": "python"
    }
  },
  "cells": [
    {
      "cell_type": "markdown",
      "source": [
        "# New Section"
      ],
      "metadata": {
        "id": "-TvxapaoWANm"
      }
    },
    {
      "cell_type": "markdown",
      "source": [
        "A CODE FOR CREDIT CARD FRAUD DETECTION USINS DEEP LEARNING ALGORITHMS HERE WE USE THE CNN ALOGORITHM\n",
        "FOLLOW MY GITHUB REPOSITORY FOR MORE CODES LIKE THIS @ADITHYA_NETTURI \"adithyanetturi\" is my git hub repository you can get machine learing codes and deep learning and small python tasks which i complete www.linkedin.com/in/adithya-netturi you can contact me through linkedin with this link"
      ],
      "metadata": {
        "id": "CMXlGMt5H65s"
      }
    },
    {
      "cell_type": "code",
      "source": [
        "import pandas as pd\n",
        "import numpy as np\n",
        "import tensorflow as tf\n",
        "from sklearn.model_selection import train_test_split\n",
        "from sklearn.preprocessing import StandardScaler\n",
        "\n",
        "##\"@adithyanetturi\""
      ],
      "metadata": {
        "id": "_gROfZQ9WEiY"
      },
      "execution_count": 9,
      "outputs": []
    },
    {
      "cell_type": "code",
      "source": [
        "df = pd.read_csv('/content/creditcard.csv')\n",
        "df['Amount'] = StandardScaler().fit_transform(df['Amount'].values.reshape(-1, 1))\n",
        "df.drop(['Time'], axis=1, inplace=True)\n",
        "X = df.iloc[:, :-1].values\n",
        "y = df.iloc[:, -1].values\n",
        "X_train, X_test, y_train, y_test = train_test_split(X, y, test_size=0.2, random_state=0)\n",
        "#\"@adithyanetturi\""
      ],
      "metadata": {
        "id": "YpRsNctPGdzi"
      },
      "execution_count": 10,
      "outputs": []
    },
    {
      "cell_type": "code",
      "source": [
        "model = tf.keras.Sequential([\n",
        "    tf.keras.layers.Dense(units=16, input_dim=X_train.shape[1], activation='relu'),\n",
        "    tf.keras.layers.Dense(units=24, activation='relu'),\n",
        "    tf.keras.layers.Dropout(0.5),\n",
        "    tf.keras.layers.Dense(units=20, activation='relu'),\n",
        "    tf.keras.layers.Dense(units=24, activation='relu'),\n",
        "    tf.keras.layers.Dense(units=1, activation='sigmoid')\n",
        "])\n",
        "#\"@adithyanetturi\"\n"
      ],
      "metadata": {
        "id": "KQyrRgO0Gd1w"
      },
      "execution_count": 11,
      "outputs": []
    },
    {
      "cell_type": "code",
      "source": [
        "model.compile(optimizer='adam', loss='binary_crossentropy', metrics=['accuracy'])\n",
        "model.fit(X_train, y_train, batch_size=15, epochs=5)\n",
        "#\"@adithyanetturi\""
      ],
      "metadata": {
        "colab": {
          "base_uri": "https://localhost:8080/"
        },
        "id": "QQuaEttvGd4O",
        "outputId": "f54a1020-836f-4bdc-b016-b0f1e3944645"
      },
      "execution_count": 12,
      "outputs": [
        {
          "output_type": "stream",
          "name": "stdout",
          "text": [
            "Epoch 1/5\n",
            "2329/2329 [==============================] - 6s 2ms/step - loss: nan - accuracy: 0.9962\n",
            "Epoch 2/5\n",
            "2329/2329 [==============================] - 8s 3ms/step - loss: nan - accuracy: 0.9968\n",
            "Epoch 3/5\n",
            "2329/2329 [==============================] - 9s 4ms/step - loss: nan - accuracy: 0.9968\n",
            "Epoch 4/5\n",
            "2329/2329 [==============================] - 5s 2ms/step - loss: nan - accuracy: 0.9968\n",
            "Epoch 5/5\n",
            "2329/2329 [==============================] - 5s 2ms/step - loss: nan - accuracy: 0.9968\n"
          ]
        },
        {
          "output_type": "execute_result",
          "data": {
            "text/plain": [
              "<keras.callbacks.History at 0x7fb4051dd280>"
            ]
          },
          "metadata": {},
          "execution_count": 12
        }
      ]
    },
    {
      "cell_type": "code",
      "source": [
        "_, accuracy = model.evaluate(X_test, y_test)\n",
        "print('Accuracy: %.2f%%' % (accuracy*100))\n",
        "#\"@adithyanetturi\""
      ],
      "metadata": {
        "colab": {
          "base_uri": "https://localhost:8080/"
        },
        "id": "ijPY4aR2Gd6M",
        "outputId": "a9aaf6cf-99ad-412f-80ad-3d6422dd235a"
      },
      "execution_count": 13,
      "outputs": [
        {
          "output_type": "stream",
          "name": "stdout",
          "text": [
            "273/273 [==============================] - 1s 1ms/step - loss: nan - accuracy: 0.9973\n",
            "Accuracy: 99.73%\n"
          ]
        }
      ]
    },
    {
      "cell_type": "code",
      "source": [
        "y_pred = model.predict(X_test)\n",
        "y_pred = (y_pred > 0.5)\n",
        "#\"@adithyanetturi\""
      ],
      "metadata": {
        "colab": {
          "base_uri": "https://localhost:8080/"
        },
        "id": "bqRlSUCeGd9n",
        "outputId": "09520ece-588a-4866-85ef-b267957acdae"
      },
      "execution_count": 14,
      "outputs": [
        {
          "output_type": "stream",
          "name": "stdout",
          "text": [
            "273/273 [==============================] - 0s 1ms/step\n"
          ]
        }
      ]
    },
    {
      "cell_type": "code",
      "source": [],
      "metadata": {
        "id": "HF2rA367Hr5g"
      },
      "execution_count": 14,
      "outputs": []
    }
  ]
}